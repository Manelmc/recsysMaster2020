{
 "cells": [
  {
   "cell_type": "code",
   "execution_count": 42,
   "metadata": {},
   "outputs": [],
   "source": [
    "import pandas as pd\n",
    "import numpy as np\n",
    "\n",
    "from sklearn.model_selection import train_test_split\n",
    "\n",
    "# conda install -c conda-forge tqdm \n",
    "try:\n",
    "    from tqdm import tqdm_notebook\n",
    "except:\n",
    "    from tqdm.notebook import tqdm as tqdm_notebook\n",
    "    \n",
    "import os\n",
    "\n",
    "# conda install -y -c conda-forge xgboost \n",
    "import xgboost as xgb\n",
    "\n",
    "from utils import *"
   ]
  },
  {
   "cell_type": "markdown",
   "metadata": {},
   "source": [
    "# Recsys 2020: Twitter"
   ]
  },
  {
   "cell_type": "code",
   "execution_count": 24,
   "metadata": {},
   "outputs": [],
   "source": [
    "# CHANGE THIS\n",
    "path_to_data = \"/data/Recsys2020/\""
   ]
  },
  {
   "cell_type": "code",
   "execution_count": 25,
   "metadata": {},
   "outputs": [
    {
     "data": {
      "text/html": [
       "<style>.container { width:100% !important; }</style>"
      ],
      "text/plain": [
       "<IPython.core.display.HTML object>"
      ]
     },
     "metadata": {},
     "output_type": "display_data"
    }
   ],
   "source": [
    "from IPython.core.display import display, HTML\n",
    "\n",
    "# Expand jupyter notebook width\n",
    "display(HTML(\"<style>.container { width:100% !important; }</style>\"))\n",
    "\n",
    "# Set the maximum number of rows and columns to display\n",
    "pd.set_option('display.max_rows', 25)\n",
    "pd.set_option('display.max_columns', 50)\n",
    "\n",
    "# Set the width of a column to -1. This tells pandas to display all the content in the cells cell\n",
    "pd.set_option('display.max_colwidth', -1)"
   ]
  },
  {
   "cell_type": "code",
   "execution_count": 26,
   "metadata": {},
   "outputs": [
    {
     "name": "stdout",
     "output_type": "stream",
     "text": [
      "CPU times: user 1.03 s, sys: 12 ms, total: 1.04 s\n",
      "Wall time: 1.04 s\n"
     ]
    },
    {
     "data": {
      "text/html": [
       "<div>\n",
       "<style scoped>\n",
       "    .dataframe tbody tr th:only-of-type {\n",
       "        vertical-align: middle;\n",
       "    }\n",
       "\n",
       "    .dataframe tbody tr th {\n",
       "        vertical-align: top;\n",
       "    }\n",
       "\n",
       "    .dataframe thead th {\n",
       "        text-align: right;\n",
       "    }\n",
       "</style>\n",
       "<table border=\"1\" class=\"dataframe\">\n",
       "  <thead>\n",
       "    <tr style=\"text-align: right;\">\n",
       "      <th></th>\n",
       "      <th>bert</th>\n",
       "      <th>hashtags</th>\n",
       "      <th>tweet_id</th>\n",
       "      <th>media</th>\n",
       "      <th>links</th>\n",
       "      <th>domains</th>\n",
       "      <th>type</th>\n",
       "      <th>language</th>\n",
       "      <th>timestamp</th>\n",
       "      <th>EWUF_user_id</th>\n",
       "      <th>EWUF_follower_count</th>\n",
       "      <th>EWUF_following_count</th>\n",
       "      <th>EWUF_verified</th>\n",
       "      <th>EWUF_account_creation</th>\n",
       "      <th>EUF_user_id</th>\n",
       "      <th>EUF_follower_count</th>\n",
       "      <th>EUF_following_count</th>\n",
       "      <th>EUF_verified</th>\n",
       "      <th>EUF_account_creation</th>\n",
       "      <th>engagee_follows_engager</th>\n",
       "      <th>reply_timestamp</th>\n",
       "      <th>retweet_timestamp</th>\n",
       "      <th>retweet_comment_timestamp</th>\n",
       "      <th>like_timestamp</th>\n",
       "    </tr>\n",
       "  </thead>\n",
       "  <tbody>\n",
       "    <tr>\n",
       "      <th>0</th>\n",
       "      <td>101\\t14120\\t131\\t120\\t120\\t188\\t119\\t11170\\t120\\t178\\t71492\\t11274\\t10112\\t10759\\t11274\\t11166\\t10161\\t11127\\t102</td>\n",
       "      <td>NaN</td>\n",
       "      <td>BFB529DAB6D384EB83E899A72AB3830D</td>\n",
       "      <td>Photo</td>\n",
       "      <td>NaN</td>\n",
       "      <td>NaN</td>\n",
       "      <td>TopLevel</td>\n",
       "      <td>B9175601E87101A984A50F8A62A1C374</td>\n",
       "      <td>1581018910</td>\n",
       "      <td>1F30A85E612A24B426013978ADB7AE46</td>\n",
       "      <td>39786</td>\n",
       "      <td>32978</td>\n",
       "      <td>False</td>\n",
       "      <td>1322740272</td>\n",
       "      <td>000005C520010F8917EEAB6F5B6EC1C4</td>\n",
       "      <td>17</td>\n",
       "      <td>77</td>\n",
       "      <td>False</td>\n",
       "      <td>1569692352</td>\n",
       "      <td>True</td>\n",
       "      <td>NaN</td>\n",
       "      <td>NaN</td>\n",
       "      <td>NaN</td>\n",
       "      <td>NaN</td>\n",
       "    </tr>\n",
       "    <tr>\n",
       "      <th>1</th>\n",
       "      <td>101\\t62342\\t10858\\t54439\\t19571\\t22480\\t7831\\t8129\\t2215\\t4671\\t7229\\t4368\\t2226\\t3268\\t1965\\t53106\\t119\\t14120\\t131\\t120\\t120\\t188\\t119\\t11170\\t120\\t177\\t11779\\t10418\\t10457\\t11274\\t10874\\t11733\\t12674\\t12396\\t10350\\t102</td>\n",
       "      <td>NaN</td>\n",
       "      <td>519078C7834E9642508F72A6C2D0F3B7</td>\n",
       "      <td>NaN</td>\n",
       "      <td>788ABAA22F1C4A9D186510C1E3E81F58</td>\n",
       "      <td>892B6E0BC037800B59112CFCB95E3301</td>\n",
       "      <td>TopLevel</td>\n",
       "      <td>22C448FF81263D4BAF2A176145EE9EAD</td>\n",
       "      <td>1581244866</td>\n",
       "      <td>9E1FD934C376903895DEEBCC0F6AB920</td>\n",
       "      <td>141726</td>\n",
       "      <td>3232</td>\n",
       "      <td>False</td>\n",
       "      <td>1343181073</td>\n",
       "      <td>000006829BEADA9EEA695CF0C334B426</td>\n",
       "      <td>2</td>\n",
       "      <td>29</td>\n",
       "      <td>False</td>\n",
       "      <td>1568107028</td>\n",
       "      <td>False</td>\n",
       "      <td>NaN</td>\n",
       "      <td>NaN</td>\n",
       "      <td>NaN</td>\n",
       "      <td>1581247087</td>\n",
       "    </tr>\n",
       "    <tr>\n",
       "      <th>2</th>\n",
       "      <td>101\\t58955\\t10898\\t103305\\t1901\\t16181\\t7168\\t17984\\t15221\\t2149\\t1980\\t7168\\t17984\\t15221\\t4388\\t1943\\t7168\\t15219\\t28224\\t27849\\t22946\\t27607\\t119\\t1904\\t27058\\t14244\\t5769\\t1943\\t2738\\t1917\\t30884\\t111806\\t35412\\t74381\\t28224\\t50508\\t1901\\t10060\\t112\\t489\\t112\\t10061\\t119\\t119\\t108\\t29005\\t10230\\t108\\t7457\\t2893\\t6101\\t14120\\t131\\t120\\t120\\t188\\t119\\t11170\\t120\\t141\\t10305\\t25743\\t13034\\t10729\\t11527\\t10410\\t11369\\t102</td>\n",
       "      <td>F0F2FBE57F08E7C4326682B5EDA63E3E\\tE78674D323461112D0DCF8010AF5AED3</td>\n",
       "      <td>52AAE9E33EFAC8C478C57B31A9E31ED1</td>\n",
       "      <td>NaN</td>\n",
       "      <td>C06B84A10A75AE4BF4A102AB45CC2ABF</td>\n",
       "      <td>C0F5328C1D36CD4B34D1808012E18D46</td>\n",
       "      <td>TopLevel</td>\n",
       "      <td>22C448FF81263D4BAF2A176145EE9EAD</td>\n",
       "      <td>1581250124</td>\n",
       "      <td>BEB3C337B266E2C4769065AD64724329</td>\n",
       "      <td>3044</td>\n",
       "      <td>99</td>\n",
       "      <td>False</td>\n",
       "      <td>1350921963</td>\n",
       "      <td>000006829BEADA9EEA695CF0C334B426</td>\n",
       "      <td>3</td>\n",
       "      <td>30</td>\n",
       "      <td>False</td>\n",
       "      <td>1568107028</td>\n",
       "      <td>False</td>\n",
       "      <td>NaN</td>\n",
       "      <td>NaN</td>\n",
       "      <td>NaN</td>\n",
       "      <td>NaN</td>\n",
       "    </tr>\n",
       "    <tr>\n",
       "      <th>3</th>\n",
       "      <td>101\\t2435\\t5656\\t2594\\t8279\\t8623\\t1925\\t64126\\t14725\\t16867\\t2072\\t7744\\t8137\\t6224\\t3446\\t3189\\t1939\\t15355\\t102</td>\n",
       "      <td>NaN</td>\n",
       "      <td>89C1298C55EB3D68E2784F0BFB69E6F8</td>\n",
       "      <td>NaN</td>\n",
       "      <td>NaN</td>\n",
       "      <td>NaN</td>\n",
       "      <td>TopLevel</td>\n",
       "      <td>22C448FF81263D4BAF2A176145EE9EAD</td>\n",
       "      <td>1580958805</td>\n",
       "      <td>9E1FD934C376903895DEEBCC0F6AB920</td>\n",
       "      <td>141370</td>\n",
       "      <td>3235</td>\n",
       "      <td>False</td>\n",
       "      <td>1343181073</td>\n",
       "      <td>000006829BEADA9EEA695CF0C334B426</td>\n",
       "      <td>3</td>\n",
       "      <td>30</td>\n",
       "      <td>False</td>\n",
       "      <td>1568107028</td>\n",
       "      <td>False</td>\n",
       "      <td>NaN</td>\n",
       "      <td>NaN</td>\n",
       "      <td>NaN</td>\n",
       "      <td>NaN</td>\n",
       "    </tr>\n",
       "    <tr>\n",
       "      <th>4</th>\n",
       "      <td>101\\t56898\\t137\\t16349\\t11530\\t11274\\t12396\\t11779\\t11273\\t168\\t45657\\t131\\t2038\\t78841\\t73115\\t13894\\t5106\\t7543\\t3670\\t1985\\t11668\\t57743\\t21761\\t11377\\t3393\\t4337\\t1923\\t53106\\t10055\\t5719\\t44360\\t10898\\t11490\\t30297\\t10155\\t12360\\t24310\\t11312\\t26554\\t32308\\t56910\\t22526\\t3820\\t15219\\t15752\\t25204\\t6483\\t1911\\t47359\\t18825\\t28224\\t51143\\t15221\\t1882\\t119\\t119\\t2999\\t6076\\t1947\\t28442\\t30884\\t18767\\t131\\t14120\\t131\\t120\\t120\\t188\\t119\\t11170\\t120\\t14074\\t10107\\t66025\\t10686\\t19282\\t11703\\t10237\\t10457\\t119\\t108\\t16349\\t11530\\t11490\\t13998\\t24310\\t108\\t141\\t10457\\t11490\\t10556\\t100\\t102</td>\n",
       "      <td>C38F925CF76111352C3FE0EFBA8F32B6\\t7E881DBFB094FB9EC5974FD3958C5747</td>\n",
       "      <td>D1F22992B720504FF058991B83A4C4D8</td>\n",
       "      <td>NaN</td>\n",
       "      <td>2E2690EDB8C577AB6B54D0CD6AE94AC9</td>\n",
       "      <td>3896E26D12C903F0A00B6B1BE9A9BEA3</td>\n",
       "      <td>Retweet</td>\n",
       "      <td>22C448FF81263D4BAF2A176145EE9EAD</td>\n",
       "      <td>1581335128</td>\n",
       "      <td>E4CF13FFB0C7B8AC747476D57543C413</td>\n",
       "      <td>3264</td>\n",
       "      <td>39</td>\n",
       "      <td>False</td>\n",
       "      <td>1520131887</td>\n",
       "      <td>000006829BEADA9EEA695CF0C334B426</td>\n",
       "      <td>3</td>\n",
       "      <td>29</td>\n",
       "      <td>False</td>\n",
       "      <td>1568107028</td>\n",
       "      <td>False</td>\n",
       "      <td>NaN</td>\n",
       "      <td>NaN</td>\n",
       "      <td>NaN</td>\n",
       "      <td>NaN</td>\n",
       "    </tr>\n",
       "  </tbody>\n",
       "</table>\n",
       "</div>"
      ],
      "text/plain": [
       "                                                                                                                                                                                                                                                                                                                                                                                                                                                                                                                                                                                                                  bert  \\\n",
       "0  101\\t14120\\t131\\t120\\t120\\t188\\t119\\t11170\\t120\\t178\\t71492\\t11274\\t10112\\t10759\\t11274\\t11166\\t10161\\t11127\\t102                                                                                                                                                                                                                                                                                                                                                                                                                                                                                                     \n",
       "1  101\\t62342\\t10858\\t54439\\t19571\\t22480\\t7831\\t8129\\t2215\\t4671\\t7229\\t4368\\t2226\\t3268\\t1965\\t53106\\t119\\t14120\\t131\\t120\\t120\\t188\\t119\\t11170\\t120\\t177\\t11779\\t10418\\t10457\\t11274\\t10874\\t11733\\t12674\\t12396\\t10350\\t102                                                                                                                                                                                                                                                                                                                                                                                         \n",
       "2  101\\t58955\\t10898\\t103305\\t1901\\t16181\\t7168\\t17984\\t15221\\t2149\\t1980\\t7168\\t17984\\t15221\\t4388\\t1943\\t7168\\t15219\\t28224\\t27849\\t22946\\t27607\\t119\\t1904\\t27058\\t14244\\t5769\\t1943\\t2738\\t1917\\t30884\\t111806\\t35412\\t74381\\t28224\\t50508\\t1901\\t10060\\t112\\t489\\t112\\t10061\\t119\\t119\\t108\\t29005\\t10230\\t108\\t7457\\t2893\\t6101\\t14120\\t131\\t120\\t120\\t188\\t119\\t11170\\t120\\t141\\t10305\\t25743\\t13034\\t10729\\t11527\\t10410\\t11369\\t102                                                                                                                                                                             \n",
       "3  101\\t2435\\t5656\\t2594\\t8279\\t8623\\t1925\\t64126\\t14725\\t16867\\t2072\\t7744\\t8137\\t6224\\t3446\\t3189\\t1939\\t15355\\t102                                                                                                                                                                                                                                                                                                                                                                                                                                                                                                    \n",
       "4  101\\t56898\\t137\\t16349\\t11530\\t11274\\t12396\\t11779\\t11273\\t168\\t45657\\t131\\t2038\\t78841\\t73115\\t13894\\t5106\\t7543\\t3670\\t1985\\t11668\\t57743\\t21761\\t11377\\t3393\\t4337\\t1923\\t53106\\t10055\\t5719\\t44360\\t10898\\t11490\\t30297\\t10155\\t12360\\t24310\\t11312\\t26554\\t32308\\t56910\\t22526\\t3820\\t15219\\t15752\\t25204\\t6483\\t1911\\t47359\\t18825\\t28224\\t51143\\t15221\\t1882\\t119\\t119\\t2999\\t6076\\t1947\\t28442\\t30884\\t18767\\t131\\t14120\\t131\\t120\\t120\\t188\\t119\\t11170\\t120\\t14074\\t10107\\t66025\\t10686\\t19282\\t11703\\t10237\\t10457\\t119\\t108\\t16349\\t11530\\t11490\\t13998\\t24310\\t108\\t141\\t10457\\t11490\\t10556\\t100\\t102   \n",
       "\n",
       "                                                             hashtags  \\\n",
       "0  NaN                                                                  \n",
       "1  NaN                                                                  \n",
       "2  F0F2FBE57F08E7C4326682B5EDA63E3E\\tE78674D323461112D0DCF8010AF5AED3   \n",
       "3  NaN                                                                  \n",
       "4  C38F925CF76111352C3FE0EFBA8F32B6\\t7E881DBFB094FB9EC5974FD3958C5747   \n",
       "\n",
       "                           tweet_id  media                             links  \\\n",
       "0  BFB529DAB6D384EB83E899A72AB3830D  Photo  NaN                                \n",
       "1  519078C7834E9642508F72A6C2D0F3B7  NaN    788ABAA22F1C4A9D186510C1E3E81F58   \n",
       "2  52AAE9E33EFAC8C478C57B31A9E31ED1  NaN    C06B84A10A75AE4BF4A102AB45CC2ABF   \n",
       "3  89C1298C55EB3D68E2784F0BFB69E6F8  NaN    NaN                                \n",
       "4  D1F22992B720504FF058991B83A4C4D8  NaN    2E2690EDB8C577AB6B54D0CD6AE94AC9   \n",
       "\n",
       "                            domains      type  \\\n",
       "0  NaN                               TopLevel   \n",
       "1  892B6E0BC037800B59112CFCB95E3301  TopLevel   \n",
       "2  C0F5328C1D36CD4B34D1808012E18D46  TopLevel   \n",
       "3  NaN                               TopLevel   \n",
       "4  3896E26D12C903F0A00B6B1BE9A9BEA3  Retweet    \n",
       "\n",
       "                           language   timestamp  \\\n",
       "0  B9175601E87101A984A50F8A62A1C374  1581018910   \n",
       "1  22C448FF81263D4BAF2A176145EE9EAD  1581244866   \n",
       "2  22C448FF81263D4BAF2A176145EE9EAD  1581250124   \n",
       "3  22C448FF81263D4BAF2A176145EE9EAD  1580958805   \n",
       "4  22C448FF81263D4BAF2A176145EE9EAD  1581335128   \n",
       "\n",
       "                       EWUF_user_id EWUF_follower_count EWUF_following_count  \\\n",
       "0  1F30A85E612A24B426013978ADB7AE46  39786               32978                 \n",
       "1  9E1FD934C376903895DEEBCC0F6AB920  141726              3232                  \n",
       "2  BEB3C337B266E2C4769065AD64724329  3044                99                    \n",
       "3  9E1FD934C376903895DEEBCC0F6AB920  141370              3235                  \n",
       "4  E4CF13FFB0C7B8AC747476D57543C413  3264                39                    \n",
       "\n",
       "   EWUF_verified EWUF_account_creation                       EUF_user_id  \\\n",
       "0  False          1322740272            000005C520010F8917EEAB6F5B6EC1C4   \n",
       "1  False          1343181073            000006829BEADA9EEA695CF0C334B426   \n",
       "2  False          1350921963            000006829BEADA9EEA695CF0C334B426   \n",
       "3  False          1343181073            000006829BEADA9EEA695CF0C334B426   \n",
       "4  False          1520131887            000006829BEADA9EEA695CF0C334B426   \n",
       "\n",
       "  EUF_follower_count EUF_following_count  EUF_verified EUF_account_creation  \\\n",
       "0  17                 77                  False         1569692352            \n",
       "1  2                  29                  False         1568107028            \n",
       "2  3                  30                  False         1568107028            \n",
       "3  3                  30                  False         1568107028            \n",
       "4  3                  29                  False         1568107028            \n",
       "\n",
       "   engagee_follows_engager reply_timestamp retweet_timestamp  \\\n",
       "0  True                     NaN             NaN                \n",
       "1  False                    NaN             NaN                \n",
       "2  False                    NaN             NaN                \n",
       "3  False                    NaN             NaN                \n",
       "4  False                    NaN             NaN                \n",
       "\n",
       "  retweet_comment_timestamp like_timestamp  \n",
       "0  NaN                       NaN            \n",
       "1  NaN                       1581247087     \n",
       "2  NaN                       NaN            \n",
       "3  NaN                       NaN            \n",
       "4  NaN                       NaN            "
      ]
     },
     "execution_count": 26,
     "metadata": {},
     "output_type": "execute_result"
    }
   ],
   "source": [
    "# Training dataset with the desired number of rows\n",
    "%time df_train = read_data(path_to_data+'training.tsv', N=10000)\n",
    "df_train.head(5)"
   ]
  },
  {
   "cell_type": "code",
   "execution_count": 27,
   "metadata": {},
   "outputs": [
    {
     "name": "stdout",
     "output_type": "stream",
     "text": [
      "CPU times: user 96 ms, sys: 4 ms, total: 100 ms\n",
      "Wall time: 102 ms\n"
     ]
    },
    {
     "data": {
      "text/html": [
       "<div>\n",
       "<style scoped>\n",
       "    .dataframe tbody tr th:only-of-type {\n",
       "        vertical-align: middle;\n",
       "    }\n",
       "\n",
       "    .dataframe tbody tr th {\n",
       "        vertical-align: top;\n",
       "    }\n",
       "\n",
       "    .dataframe thead th {\n",
       "        text-align: right;\n",
       "    }\n",
       "</style>\n",
       "<table border=\"1\" class=\"dataframe\">\n",
       "  <thead>\n",
       "    <tr style=\"text-align: right;\">\n",
       "      <th></th>\n",
       "      <th>bert</th>\n",
       "      <th>hashtags</th>\n",
       "      <th>tweet_id</th>\n",
       "      <th>media</th>\n",
       "      <th>links</th>\n",
       "      <th>domains</th>\n",
       "      <th>type</th>\n",
       "      <th>language</th>\n",
       "      <th>timestamp</th>\n",
       "      <th>EWUF_user_id</th>\n",
       "      <th>EWUF_follower_count</th>\n",
       "      <th>EWUF_following_count</th>\n",
       "      <th>EWUF_verified</th>\n",
       "      <th>EWUF_account_creation</th>\n",
       "      <th>EUF_user_id</th>\n",
       "      <th>EUF_follower_count</th>\n",
       "      <th>EUF_following_count</th>\n",
       "      <th>EUF_verified</th>\n",
       "      <th>EUF_account_creation</th>\n",
       "      <th>engagee_follows_engager</th>\n",
       "    </tr>\n",
       "  </thead>\n",
       "  <tbody>\n",
       "    <tr>\n",
       "      <th>0</th>\n",
       "      <td>101\\t56898\\t137\\t10730\\t107105\\t59578\\t17394\\t17394\\t17394\\t131\\t14120\\t131\\t120\\t120\\t188\\t119\\t11170\\t120\\t150\\t10305\\t11396\\t10731\\t11373\\t10575\\t10457\\t11127\\t10707\\t102</td>\n",
       "      <td>NaN</td>\n",
       "      <td>408DB1803264B5FF55F73EC06BE9BD77</td>\n",
       "      <td>Photo\\tPhoto\\tPhoto\\tPhoto</td>\n",
       "      <td>NaN</td>\n",
       "      <td>NaN</td>\n",
       "      <td>Retweet</td>\n",
       "      <td>B9175601E87101A984A50F8A62A1C374</td>\n",
       "      <td>1582021842</td>\n",
       "      <td>825B003667DF15692B1704F44DAFD1A2</td>\n",
       "      <td>186</td>\n",
       "      <td>100</td>\n",
       "      <td>False</td>\n",
       "      <td>1263078566</td>\n",
       "      <td>000013315386492275CCBF7AEF293EF0</td>\n",
       "      <td>139</td>\n",
       "      <td>956</td>\n",
       "      <td>False</td>\n",
       "      <td>1335110299</td>\n",
       "      <td>False</td>\n",
       "    </tr>\n",
       "  </tbody>\n",
       "</table>\n",
       "</div>"
      ],
      "text/plain": [
       "                                                                                                                                                                            bert  \\\n",
       "0  101\\t56898\\t137\\t10730\\t107105\\t59578\\t17394\\t17394\\t17394\\t131\\t14120\\t131\\t120\\t120\\t188\\t119\\t11170\\t120\\t150\\t10305\\t11396\\t10731\\t11373\\t10575\\t10457\\t11127\\t10707\\t102   \n",
       "\n",
       "  hashtags                          tweet_id                       media  \\\n",
       "0  NaN      408DB1803264B5FF55F73EC06BE9BD77  Photo\\tPhoto\\tPhoto\\tPhoto   \n",
       "\n",
       "  links domains     type                          language   timestamp  \\\n",
       "0  NaN   NaN     Retweet  B9175601E87101A984A50F8A62A1C374  1582021842   \n",
       "\n",
       "                       EWUF_user_id EWUF_follower_count EWUF_following_count  \\\n",
       "0  825B003667DF15692B1704F44DAFD1A2  186                 100                   \n",
       "\n",
       "   EWUF_verified EWUF_account_creation                       EUF_user_id  \\\n",
       "0  False          1263078566            000013315386492275CCBF7AEF293EF0   \n",
       "\n",
       "  EUF_follower_count EUF_following_count  EUF_verified EUF_account_creation  \\\n",
       "0  139                956                 False         1335110299            \n",
       "\n",
       "   engagee_follows_engager  \n",
       "0  False                    "
      ]
     },
     "execution_count": 27,
     "metadata": {},
     "output_type": "execute_result"
    }
   ],
   "source": [
    "# Load the validation dataset. Remove parameter N or set it to None to load all the file\n",
    "%time df_val = read_data(path_to_data+'val.tsv', N=1000)\n",
    "df_val.head(1)"
   ]
  },
  {
   "cell_type": "markdown",
   "metadata": {},
   "source": [
    "## The dumbest submission"
   ]
  },
  {
   "cell_type": "code",
   "execution_count": 28,
   "metadata": {},
   "outputs": [
    {
     "name": "stdout",
     "output_type": "stream",
     "text": [
      "Directory  submissions/dummy_submission  already exists\n"
     ]
    },
    {
     "data": {
      "application/vnd.jupyter.widget-view+json": {
       "model_id": "00e60abd91d44d9ba5f47f0540f5d452",
       "version_major": 2,
       "version_minor": 0
      },
      "text/plain": [
       "HBox(children=(IntProgress(value=0, max=4), HTML(value='')))"
      ]
     },
     "metadata": {},
     "output_type": "display_data"
    },
    {
     "name": "stdout",
     "output_type": "stream",
     "text": [
      "\n",
      "Zipping... DONE!\n"
     ]
    }
   ],
   "source": [
    "# The dumbest submission, assigns 0.5 to all the columns. See code inside utils.py\n",
    "df_val = fill_df_with_value(df_val, 0.5)\n",
    "\n",
    "# Create a submission\n",
    "create_submission(df_val, 'dummy_submission', create_zip=True)"
   ]
  },
  {
   "cell_type": "markdown",
   "metadata": {},
   "source": [
    "## Improving with XGBoost"
   ]
  },
  {
   "cell_type": "markdown",
   "metadata": {},
   "source": [
    "### Feature 1: Engagee follows engager?"
   ]
  },
  {
   "cell_type": "code",
   "execution_count": 29,
   "metadata": {},
   "outputs": [],
   "source": [
    "df_train['feature01_is_following'] = df_train['engagee_follows_engager']*1\n",
    "df_val['feature01_is_following'] = df_val['engagee_follows_engager']*1"
   ]
  },
  {
   "cell_type": "code",
   "execution_count": 30,
   "metadata": {},
   "outputs": [
    {
     "data": {
      "text/html": [
       "<div>\n",
       "<style scoped>\n",
       "    .dataframe tbody tr th:only-of-type {\n",
       "        vertical-align: middle;\n",
       "    }\n",
       "\n",
       "    .dataframe tbody tr th {\n",
       "        vertical-align: top;\n",
       "    }\n",
       "\n",
       "    .dataframe thead th {\n",
       "        text-align: right;\n",
       "    }\n",
       "</style>\n",
       "<table border=\"1\" class=\"dataframe\">\n",
       "  <thead>\n",
       "    <tr style=\"text-align: right;\">\n",
       "      <th></th>\n",
       "      <th>engagee_follows_engager</th>\n",
       "      <th>feature01_is_following</th>\n",
       "    </tr>\n",
       "  </thead>\n",
       "  <tbody>\n",
       "    <tr>\n",
       "      <th>0</th>\n",
       "      <td>True</td>\n",
       "      <td>1</td>\n",
       "    </tr>\n",
       "    <tr>\n",
       "      <th>1</th>\n",
       "      <td>False</td>\n",
       "      <td>0</td>\n",
       "    </tr>\n",
       "    <tr>\n",
       "      <th>2</th>\n",
       "      <td>False</td>\n",
       "      <td>0</td>\n",
       "    </tr>\n",
       "    <tr>\n",
       "      <th>3</th>\n",
       "      <td>False</td>\n",
       "      <td>0</td>\n",
       "    </tr>\n",
       "    <tr>\n",
       "      <th>4</th>\n",
       "      <td>False</td>\n",
       "      <td>0</td>\n",
       "    </tr>\n",
       "  </tbody>\n",
       "</table>\n",
       "</div>"
      ],
      "text/plain": [
       "   engagee_follows_engager  feature01_is_following\n",
       "0  True                     1                     \n",
       "1  False                    0                     \n",
       "2  False                    0                     \n",
       "3  False                    0                     \n",
       "4  False                    0                     "
      ]
     },
     "execution_count": 30,
     "metadata": {},
     "output_type": "execute_result"
    }
   ],
   "source": [
    "df_train.loc[:,['engagee_follows_engager','feature01_is_following']].head()"
   ]
  },
  {
   "cell_type": "markdown",
   "metadata": {},
   "source": [
    "### Feature 2: How many Photos / GIFs does the tweet contain, apart from the text?"
   ]
  },
  {
   "cell_type": "code",
   "execution_count": 31,
   "metadata": {},
   "outputs": [],
   "source": [
    "df_train['feature02_media_count'] = df_train['media'].str.split('\\t').str.len().fillna(0)\n",
    "df_val['feature02_media_count'] = df_val['media'].str.split('\\t').str.len().fillna(0)"
   ]
  },
  {
   "cell_type": "code",
   "execution_count": 32,
   "metadata": {},
   "outputs": [
    {
     "data": {
      "text/html": [
       "<div>\n",
       "<style scoped>\n",
       "    .dataframe tbody tr th:only-of-type {\n",
       "        vertical-align: middle;\n",
       "    }\n",
       "\n",
       "    .dataframe tbody tr th {\n",
       "        vertical-align: top;\n",
       "    }\n",
       "\n",
       "    .dataframe thead th {\n",
       "        text-align: right;\n",
       "    }\n",
       "</style>\n",
       "<table border=\"1\" class=\"dataframe\">\n",
       "  <thead>\n",
       "    <tr style=\"text-align: right;\">\n",
       "      <th></th>\n",
       "      <th>media</th>\n",
       "      <th>feature02_media_count</th>\n",
       "    </tr>\n",
       "  </thead>\n",
       "  <tbody>\n",
       "    <tr>\n",
       "      <th>9999</th>\n",
       "      <td>Photo\\tPhoto\\tPhoto\\tPhoto</td>\n",
       "      <td>4.0</td>\n",
       "    </tr>\n",
       "    <tr>\n",
       "      <th>4391</th>\n",
       "      <td>Photo\\tPhoto\\tPhoto\\tPhoto</td>\n",
       "      <td>4.0</td>\n",
       "    </tr>\n",
       "    <tr>\n",
       "      <th>8146</th>\n",
       "      <td>Photo\\tPhoto\\tPhoto\\tPhoto</td>\n",
       "      <td>4.0</td>\n",
       "    </tr>\n",
       "    <tr>\n",
       "      <th>4346</th>\n",
       "      <td>Photo\\tPhoto\\tPhoto\\tPhoto</td>\n",
       "      <td>4.0</td>\n",
       "    </tr>\n",
       "    <tr>\n",
       "      <th>8170</th>\n",
       "      <td>Photo\\tPhoto\\tPhoto\\tPhoto</td>\n",
       "      <td>4.0</td>\n",
       "    </tr>\n",
       "  </tbody>\n",
       "</table>\n",
       "</div>"
      ],
      "text/plain": [
       "                           media  feature02_media_count\n",
       "9999  Photo\\tPhoto\\tPhoto\\tPhoto  4.0                  \n",
       "4391  Photo\\tPhoto\\tPhoto\\tPhoto  4.0                  \n",
       "8146  Photo\\tPhoto\\tPhoto\\tPhoto  4.0                  \n",
       "4346  Photo\\tPhoto\\tPhoto\\tPhoto  4.0                  \n",
       "8170  Photo\\tPhoto\\tPhoto\\tPhoto  4.0                  "
      ]
     },
     "execution_count": 32,
     "metadata": {},
     "output_type": "execute_result"
    }
   ],
   "source": [
    "df_train.loc[:,['media','feature02_media_count']].sort_values(by='feature02_media_count', ascending=False).head()"
   ]
  },
  {
   "cell_type": "markdown",
   "metadata": {},
   "source": [
    "### Feature 3: what is the ratio between followers and followed users?"
   ]
  },
  {
   "cell_type": "code",
   "execution_count": 33,
   "metadata": {},
   "outputs": [],
   "source": [
    "df_train['feature03_ratio'] = df_train['EUF_follower_count'].astype(float)/df_train['EUF_following_count'].astype(float)\n",
    "df_val['feature03_ratio'] = df_val['EUF_follower_count'].astype(float)/df_val['EUF_following_count'].astype(float)"
   ]
  },
  {
   "cell_type": "code",
   "execution_count": 34,
   "metadata": {},
   "outputs": [
    {
     "data": {
      "text/html": [
       "<div>\n",
       "<style scoped>\n",
       "    .dataframe tbody tr th:only-of-type {\n",
       "        vertical-align: middle;\n",
       "    }\n",
       "\n",
       "    .dataframe tbody tr th {\n",
       "        vertical-align: top;\n",
       "    }\n",
       "\n",
       "    .dataframe thead th {\n",
       "        text-align: right;\n",
       "    }\n",
       "</style>\n",
       "<table border=\"1\" class=\"dataframe\">\n",
       "  <thead>\n",
       "    <tr style=\"text-align: right;\">\n",
       "      <th></th>\n",
       "      <th>EUF_follower_count</th>\n",
       "      <th>EUF_following_count</th>\n",
       "      <th>feature03_ratio</th>\n",
       "    </tr>\n",
       "  </thead>\n",
       "  <tbody>\n",
       "    <tr>\n",
       "      <th>0</th>\n",
       "      <td>17</td>\n",
       "      <td>77</td>\n",
       "      <td>0.220779</td>\n",
       "    </tr>\n",
       "    <tr>\n",
       "      <th>1</th>\n",
       "      <td>2</td>\n",
       "      <td>29</td>\n",
       "      <td>0.068966</td>\n",
       "    </tr>\n",
       "    <tr>\n",
       "      <th>2</th>\n",
       "      <td>3</td>\n",
       "      <td>30</td>\n",
       "      <td>0.100000</td>\n",
       "    </tr>\n",
       "    <tr>\n",
       "      <th>3</th>\n",
       "      <td>3</td>\n",
       "      <td>30</td>\n",
       "      <td>0.100000</td>\n",
       "    </tr>\n",
       "    <tr>\n",
       "      <th>4</th>\n",
       "      <td>3</td>\n",
       "      <td>29</td>\n",
       "      <td>0.103448</td>\n",
       "    </tr>\n",
       "  </tbody>\n",
       "</table>\n",
       "</div>"
      ],
      "text/plain": [
       "  EUF_follower_count EUF_following_count  feature03_ratio\n",
       "0  17                 77                  0.220779       \n",
       "1  2                  29                  0.068966       \n",
       "2  3                  30                  0.100000       \n",
       "3  3                  30                  0.100000       \n",
       "4  3                  29                  0.103448       "
      ]
     },
     "execution_count": 34,
     "metadata": {},
     "output_type": "execute_result"
    }
   ],
   "source": [
    "df_train.loc[:, ['EUF_follower_count', 'EUF_following_count', 'feature03_ratio']].head()"
   ]
  },
  {
   "cell_type": "markdown",
   "metadata": {},
   "source": [
    "#### Store user_id, tweet_id that we have to include in the submission file"
   ]
  },
  {
   "cell_type": "code",
   "execution_count": 35,
   "metadata": {},
   "outputs": [],
   "source": [
    "df_val_ident = df_val.loc[:, ['EUF_user_id', 'tweet_id']]"
   ]
  },
  {
   "cell_type": "markdown",
   "metadata": {},
   "source": [
    "#### Create target column (in this example, we will predict LIKE)"
   ]
  },
  {
   "cell_type": "code",
   "execution_count": 36,
   "metadata": {},
   "outputs": [],
   "source": [
    "df_train_like = df_train.loc[:, 'like_timestamp'].notna()*1"
   ]
  },
  {
   "cell_type": "code",
   "execution_count": 37,
   "metadata": {},
   "outputs": [
    {
     "name": "stdout",
     "output_type": "stream",
     "text": [
      "0    NaN       \n",
      "1    1581247087\n",
      "2    NaN       \n",
      "3    NaN       \n",
      "4    NaN       \n",
      "Name: like_timestamp, dtype: object\n"
     ]
    }
   ],
   "source": [
    "print(df_train['like_timestamp'].head())"
   ]
  },
  {
   "cell_type": "code",
   "execution_count": 38,
   "metadata": {},
   "outputs": [
    {
     "name": "stdout",
     "output_type": "stream",
     "text": [
      "0    0\n",
      "1    1\n",
      "2    0\n",
      "3    0\n",
      "4    0\n",
      "Name: like_timestamp, dtype: int64\n"
     ]
    }
   ],
   "source": [
    "print(df_train_like.head())"
   ]
  },
  {
   "cell_type": "markdown",
   "metadata": {},
   "source": [
    "#### Drop columns we will not use"
   ]
  },
  {
   "cell_type": "code",
   "execution_count": 39,
   "metadata": {},
   "outputs": [
    {
     "data": {
      "text/plain": [
       "Index(['bert', 'hashtags', 'tweet_id', 'media', 'links', 'domains', 'type',\n",
       "       'language', 'timestamp', 'EWUF_user_id', 'EWUF_follower_count',\n",
       "       'EWUF_following_count', 'EWUF_verified', 'EWUF_account_creation',\n",
       "       'EUF_user_id', 'EUF_follower_count', 'EUF_following_count',\n",
       "       'EUF_verified', 'EUF_account_creation', 'engagee_follows_engager',\n",
       "       'reply_timestamp', 'retweet_timestamp', 'retweet_comment_timestamp',\n",
       "       'like_timestamp', 'feature01_is_following', 'feature02_media_count',\n",
       "       'feature03_ratio'],\n",
       "      dtype='object')"
      ]
     },
     "execution_count": 39,
     "metadata": {},
     "output_type": "execute_result"
    }
   ],
   "source": [
    "df_train.columns"
   ]
  },
  {
   "cell_type": "code",
   "execution_count": 40,
   "metadata": {},
   "outputs": [],
   "source": [
    "df_train = df_train.loc[:, ['feature01_is_following', 'feature02_media_count', 'feature03_ratio']]\n",
    "df_val = df_val.loc[:, ['feature01_is_following', 'feature02_media_count', 'feature03_ratio']]"
   ]
  },
  {
   "cell_type": "markdown",
   "metadata": {},
   "source": [
    "### We can use these three features to train a simple XGBoost"
   ]
  },
  {
   "cell_type": "code",
   "execution_count": 47,
   "metadata": {},
   "outputs": [],
   "source": [
    "# 80% training, 20% validation\n",
    "x, evalx, y, evaly = train_test_split(df_train, df_train_like, test_size=0.2)"
   ]
  },
  {
   "cell_type": "code",
   "execution_count": 49,
   "metadata": {},
   "outputs": [
    {
     "name": "stdout",
     "output_type": "stream",
     "text": [
      "[0]\tvalidation_0-aucpr:0.52561\tvalidation_1-aucpr:0.50147\n",
      "[10]\tvalidation_0-aucpr:0.60137\tvalidation_1-aucpr:0.52832\n",
      "[20]\tvalidation_0-aucpr:0.64108\tvalidation_1-aucpr:0.53748\n",
      "[30]\tvalidation_0-aucpr:0.67720\tvalidation_1-aucpr:0.54131\n",
      "[40]\tvalidation_0-aucpr:0.70091\tvalidation_1-aucpr:0.54484\n",
      "[50]\tvalidation_0-aucpr:0.72075\tvalidation_1-aucpr:0.54952\n",
      "[60]\tvalidation_0-aucpr:0.73664\tvalidation_1-aucpr:0.54951\n",
      "[70]\tvalidation_0-aucpr:0.75341\tvalidation_1-aucpr:0.55108\n",
      "[80]\tvalidation_0-aucpr:0.76704\tvalidation_1-aucpr:0.55775\n",
      "[90]\tvalidation_0-aucpr:0.77071\tvalidation_1-aucpr:0.56058\n",
      "[100]\tvalidation_0-aucpr:0.78050\tvalidation_1-aucpr:0.56288\n",
      "[110]\tvalidation_0-aucpr:0.78597\tvalidation_1-aucpr:0.56201\n",
      "[120]\tvalidation_0-aucpr:0.79120\tvalidation_1-aucpr:0.56437\n",
      "[130]\tvalidation_0-aucpr:0.79338\tvalidation_1-aucpr:0.56253\n",
      "[140]\tvalidation_0-aucpr:0.80141\tvalidation_1-aucpr:0.56277\n",
      "[150]\tvalidation_0-aucpr:0.80271\tvalidation_1-aucpr:0.56248\n",
      "[160]\tvalidation_0-aucpr:0.80632\tvalidation_1-aucpr:0.56109\n",
      "[170]\tvalidation_0-aucpr:0.80991\tvalidation_1-aucpr:0.56355\n",
      "[180]\tvalidation_0-aucpr:0.81135\tvalidation_1-aucpr:0.56433\n",
      "[190]\tvalidation_0-aucpr:0.81621\tvalidation_1-aucpr:0.56673\n",
      "[200]\tvalidation_0-aucpr:0.82021\tvalidation_1-aucpr:0.56905\n",
      "[210]\tvalidation_0-aucpr:0.82242\tvalidation_1-aucpr:0.56864\n",
      "[220]\tvalidation_0-aucpr:0.82378\tvalidation_1-aucpr:0.57052\n",
      "[230]\tvalidation_0-aucpr:0.82703\tvalidation_1-aucpr:0.57068\n",
      "[240]\tvalidation_0-aucpr:0.83251\tvalidation_1-aucpr:0.56948\n",
      "[250]\tvalidation_0-aucpr:0.83486\tvalidation_1-aucpr:0.56928\n",
      "[260]\tvalidation_0-aucpr:0.83603\tvalidation_1-aucpr:0.56805\n",
      "[270]\tvalidation_0-aucpr:0.83675\tvalidation_1-aucpr:0.56703\n",
      "[280]\tvalidation_0-aucpr:0.84079\tvalidation_1-aucpr:0.56666\n",
      "[290]\tvalidation_0-aucpr:0.84309\tvalidation_1-aucpr:0.56602\n",
      "[300]\tvalidation_0-aucpr:0.84609\tvalidation_1-aucpr:0.56722\n",
      "[310]\tvalidation_0-aucpr:0.84751\tvalidation_1-aucpr:0.56671\n",
      "[320]\tvalidation_0-aucpr:0.85061\tvalidation_1-aucpr:0.56747\n",
      "[330]\tvalidation_0-aucpr:0.85301\tvalidation_1-aucpr:0.56810\n",
      "[340]\tvalidation_0-aucpr:0.85363\tvalidation_1-aucpr:0.56864\n",
      "[350]\tvalidation_0-aucpr:0.85573\tvalidation_1-aucpr:0.56811\n",
      "[360]\tvalidation_0-aucpr:0.85727\tvalidation_1-aucpr:0.56660\n",
      "[370]\tvalidation_0-aucpr:0.85752\tvalidation_1-aucpr:0.56625\n",
      "[380]\tvalidation_0-aucpr:0.85926\tvalidation_1-aucpr:0.56481\n",
      "[390]\tvalidation_0-aucpr:0.86199\tvalidation_1-aucpr:0.56659\n",
      "[400]\tvalidation_0-aucpr:0.86251\tvalidation_1-aucpr:0.56652\n",
      "[410]\tvalidation_0-aucpr:0.86311\tvalidation_1-aucpr:0.56608\n",
      "[420]\tvalidation_0-aucpr:0.86392\tvalidation_1-aucpr:0.56754\n",
      "[430]\tvalidation_0-aucpr:0.86419\tvalidation_1-aucpr:0.56799\n",
      "[440]\tvalidation_0-aucpr:0.86455\tvalidation_1-aucpr:0.56700\n",
      "[450]\tvalidation_0-aucpr:0.86775\tvalidation_1-aucpr:0.56951\n",
      "[460]\tvalidation_0-aucpr:0.86931\tvalidation_1-aucpr:0.56879\n",
      "[470]\tvalidation_0-aucpr:0.87107\tvalidation_1-aucpr:0.56896\n",
      "[480]\tvalidation_0-aucpr:0.87198\tvalidation_1-aucpr:0.56698\n",
      "[490]\tvalidation_0-aucpr:0.87334\tvalidation_1-aucpr:0.56588\n",
      "[500]\tvalidation_0-aucpr:0.87460\tvalidation_1-aucpr:0.56586\n",
      "[510]\tvalidation_0-aucpr:0.87594\tvalidation_1-aucpr:0.56644\n",
      "[520]\tvalidation_0-aucpr:0.87837\tvalidation_1-aucpr:0.56681\n",
      "[530]\tvalidation_0-aucpr:0.88063\tvalidation_1-aucpr:0.56864\n",
      "[540]\tvalidation_0-aucpr:0.88171\tvalidation_1-aucpr:0.56915\n",
      "[550]\tvalidation_0-aucpr:0.88200\tvalidation_1-aucpr:0.56857\n",
      "[560]\tvalidation_0-aucpr:0.88272\tvalidation_1-aucpr:0.56818\n",
      "[570]\tvalidation_0-aucpr:0.88347\tvalidation_1-aucpr:0.56866\n",
      "[580]\tvalidation_0-aucpr:0.88427\tvalidation_1-aucpr:0.56984\n",
      "[590]\tvalidation_0-aucpr:0.88466\tvalidation_1-aucpr:0.57050\n",
      "[600]\tvalidation_0-aucpr:0.88654\tvalidation_1-aucpr:0.57021\n",
      "[610]\tvalidation_0-aucpr:0.88789\tvalidation_1-aucpr:0.57044\n",
      "[620]\tvalidation_0-aucpr:0.88869\tvalidation_1-aucpr:0.57088\n",
      "[630]\tvalidation_0-aucpr:0.89076\tvalidation_1-aucpr:0.57272\n",
      "[640]\tvalidation_0-aucpr:0.89154\tvalidation_1-aucpr:0.57389\n",
      "[650]\tvalidation_0-aucpr:0.89244\tvalidation_1-aucpr:0.57421\n",
      "[660]\tvalidation_0-aucpr:0.89370\tvalidation_1-aucpr:0.57380\n",
      "[670]\tvalidation_0-aucpr:0.89448\tvalidation_1-aucpr:0.57394\n",
      "[680]\tvalidation_0-aucpr:0.89555\tvalidation_1-aucpr:0.57354\n",
      "[690]\tvalidation_0-aucpr:0.89738\tvalidation_1-aucpr:0.57247\n",
      "[700]\tvalidation_0-aucpr:0.89806\tvalidation_1-aucpr:0.57349\n",
      "[710]\tvalidation_0-aucpr:0.89857\tvalidation_1-aucpr:0.57422\n",
      "[720]\tvalidation_0-aucpr:0.89898\tvalidation_1-aucpr:0.57410\n",
      "[730]\tvalidation_0-aucpr:0.89938\tvalidation_1-aucpr:0.57341\n",
      "[740]\tvalidation_0-aucpr:0.90002\tvalidation_1-aucpr:0.57329\n",
      "[750]\tvalidation_0-aucpr:0.90058\tvalidation_1-aucpr:0.57315\n",
      "[760]\tvalidation_0-aucpr:0.90107\tvalidation_1-aucpr:0.57347\n",
      "[770]\tvalidation_0-aucpr:0.90236\tvalidation_1-aucpr:0.57347\n",
      "[780]\tvalidation_0-aucpr:0.90258\tvalidation_1-aucpr:0.57352\n",
      "[790]\tvalidation_0-aucpr:0.90272\tvalidation_1-aucpr:0.57390\n",
      "[800]\tvalidation_0-aucpr:0.90319\tvalidation_1-aucpr:0.57325\n",
      "[810]\tvalidation_0-aucpr:0.90392\tvalidation_1-aucpr:0.57334\n",
      "[820]\tvalidation_0-aucpr:0.90444\tvalidation_1-aucpr:0.57371\n",
      "[830]\tvalidation_0-aucpr:0.90465\tvalidation_1-aucpr:0.57305\n",
      "[840]\tvalidation_0-aucpr:0.90527\tvalidation_1-aucpr:0.57275\n",
      "[850]\tvalidation_0-aucpr:0.90552\tvalidation_1-aucpr:0.57255\n",
      "[860]\tvalidation_0-aucpr:0.90589\tvalidation_1-aucpr:0.57230\n",
      "[870]\tvalidation_0-aucpr:0.90641\tvalidation_1-aucpr:0.57307\n",
      "[880]\tvalidation_0-aucpr:0.90655\tvalidation_1-aucpr:0.57251\n",
      "[890]\tvalidation_0-aucpr:0.90732\tvalidation_1-aucpr:0.57337\n",
      "[900]\tvalidation_0-aucpr:0.90811\tvalidation_1-aucpr:0.57369\n",
      "[910]\tvalidation_0-aucpr:0.90850\tvalidation_1-aucpr:0.57466\n",
      "[920]\tvalidation_0-aucpr:0.90922\tvalidation_1-aucpr:0.57393\n",
      "[930]\tvalidation_0-aucpr:0.91026\tvalidation_1-aucpr:0.57343\n",
      "[940]\tvalidation_0-aucpr:0.91039\tvalidation_1-aucpr:0.57346\n",
      "[950]\tvalidation_0-aucpr:0.91081\tvalidation_1-aucpr:0.57346\n",
      "[960]\tvalidation_0-aucpr:0.91118\tvalidation_1-aucpr:0.57333\n",
      "[970]\tvalidation_0-aucpr:0.91224\tvalidation_1-aucpr:0.57321\n",
      "[980]\tvalidation_0-aucpr:0.91364\tvalidation_1-aucpr:0.57348\n",
      "[990]\tvalidation_0-aucpr:0.91423\tvalidation_1-aucpr:0.57549\n",
      "[999]\tvalidation_0-aucpr:0.91475\tvalidation_1-aucpr:0.57554\n"
     ]
    },
    {
     "data": {
      "text/plain": [
       "XGBRegressor(base_score=0.5, booster=None, colsample_bylevel=1,\n",
       "             colsample_bynode=1, colsample_bytree=1, eval_metric='aucpr',\n",
       "             gamma=0, gpu_id=-1, importance_type='gain',\n",
       "             interaction_constraints=None, learning_rate=0.300000012,\n",
       "             max_delta_step=0, max_depth=5, min_child_weight=1, missing=nan,\n",
       "             monotone_constraints=None, n_estimators=1000, n_jobs=-1,\n",
       "             num_parallel_tree=1, objective='binary:logistic', random_state=42,\n",
       "             reg_alpha=0, reg_lambda=1, scale_pos_weight=1, subsample=1,\n",
       "             tree_method=None, validate_parameters=False, verbosity=None)"
      ]
     },
     "execution_count": 49,
     "metadata": {},
     "output_type": "execute_result"
    }
   ],
   "source": [
    "xgb_model = xgb.XGBRegressor(objective=\"binary:logistic\", random_state=42, \n",
    "                            n_jobs=-1, eval_metric='aucpr', max_depth=5,\n",
    "                            n_estimators=1000)\n",
    "\n",
    "xgb_model.fit(x, y,\n",
    "             verbose=10,\n",
    "             eval_set=[\n",
    "                 (x, y),\n",
    "                 (evalx, evaly)])"
   ]
  },
  {
   "cell_type": "code",
   "execution_count": 51,
   "metadata": {},
   "outputs": [
    {
     "data": {
      "image/png": "[encoded data removed]",
      "text/plain": [
       "<Figure size 720x360 with 1 Axes>"
      ]
     },
     "metadata": {
      "needs_background": "light"
     },
     "output_type": "display_data"
    }
   ],
   "source": [
    "from matplotlib import pyplot as plt\n",
    "%matplotlib inline\n",
    "\n",
    "fig = plt.figure(figsize=(10,5))\n",
    " \n",
    "results = xgb_model.evals_result()\n",
    "epochs = len(results['validation_0']['aucpr'])\n",
    "x_axis = range(0, epochs)\n",
    "\n",
    "# plot aucpr evolution\n",
    "ax = fig.gca()\n",
    "\n",
    "ax.plot(x_axis, results['validation_0']['aucpr'], label='Train')\n",
    "ax.plot(x_axis, results['validation_1']['aucpr'], label='Test')\n",
    "ax.legend()\n",
    "ax.set_ylabel('AUC-PR')\n",
    "ax.set_title('Like AUC-PR evolution')\n",
    "\n",
    "plt.tight_layout()\n",
    "plt.show()"
   ]
  },
  {
   "cell_type": "markdown",
   "metadata": {},
   "source": [
    "### Predict and submit"
   ]
  },
  {
   "cell_type": "code",
   "execution_count": 52,
   "metadata": {},
   "outputs": [
    {
     "data": {
      "text/html": [
       "<div>\n",
       "<style scoped>\n",
       "    .dataframe tbody tr th:only-of-type {\n",
       "        vertical-align: middle;\n",
       "    }\n",
       "\n",
       "    .dataframe tbody tr th {\n",
       "        vertical-align: top;\n",
       "    }\n",
       "\n",
       "    .dataframe thead th {\n",
       "        text-align: right;\n",
       "    }\n",
       "</style>\n",
       "<table border=\"1\" class=\"dataframe\">\n",
       "  <thead>\n",
       "    <tr style=\"text-align: right;\">\n",
       "      <th></th>\n",
       "      <th>feature01_is_following</th>\n",
       "      <th>feature02_media_count</th>\n",
       "      <th>feature03_ratio</th>\n",
       "      <th>like</th>\n",
       "    </tr>\n",
       "  </thead>\n",
       "  <tbody>\n",
       "    <tr>\n",
       "      <th>0</th>\n",
       "      <td>0</td>\n",
       "      <td>4.0</td>\n",
       "      <td>0.145397</td>\n",
       "      <td>0.301948</td>\n",
       "    </tr>\n",
       "    <tr>\n",
       "      <th>1</th>\n",
       "      <td>0</td>\n",
       "      <td>1.0</td>\n",
       "      <td>0.164948</td>\n",
       "      <td>0.337970</td>\n",
       "    </tr>\n",
       "    <tr>\n",
       "      <th>2</th>\n",
       "      <td>1</td>\n",
       "      <td>3.0</td>\n",
       "      <td>0.663781</td>\n",
       "      <td>0.776445</td>\n",
       "    </tr>\n",
       "    <tr>\n",
       "      <th>3</th>\n",
       "      <td>0</td>\n",
       "      <td>0.0</td>\n",
       "      <td>0.664740</td>\n",
       "      <td>0.328252</td>\n",
       "    </tr>\n",
       "    <tr>\n",
       "      <th>4</th>\n",
       "      <td>0</td>\n",
       "      <td>1.0</td>\n",
       "      <td>0.121970</td>\n",
       "      <td>0.284540</td>\n",
       "    </tr>\n",
       "  </tbody>\n",
       "</table>\n",
       "</div>"
      ],
      "text/plain": [
       "   feature01_is_following  feature02_media_count  feature03_ratio      like\n",
       "0  0                       4.0                    0.145397         0.301948\n",
       "1  0                       1.0                    0.164948         0.337970\n",
       "2  1                       3.0                    0.663781         0.776445\n",
       "3  0                       0.0                    0.664740         0.328252\n",
       "4  0                       1.0                    0.121970         0.284540"
      ]
     },
     "execution_count": 52,
     "metadata": {},
     "output_type": "execute_result"
    }
   ],
   "source": [
    "df_val['like'] = xgb_model.predict(df_val)\n",
    "df_val.head()"
   ]
  },
  {
   "cell_type": "markdown",
   "metadata": {},
   "source": [
    "Now it's time for you to do something! Improve the features, add new ones, combine different..."
   ]
  },
  {
   "cell_type": "markdown",
   "metadata": {},
   "source": [
    "Ah! And you also have to create predictions for RETWEET, RETWEET_COMMENT and REPLY."
   ]
  },
  {
   "cell_type": "raw",
   "metadata": {},
   "source": [
    "df_val['like'] = xgb_model_like.predict(df_val)\n",
    "df_val['retweet'] = xgb_model_retweet.predict(df_val)\n",
    "df_val['retweet_comment'] = xgb_model_retweet_comment.predict(df_val)\n",
    "df_val['reply'] = xgb_model_reply.predict(df_val)"
   ]
  },
  {
   "cell_type": "markdown",
   "metadata": {},
   "source": [
    "When you have everything ready, create a submission with **all validation data** (use the `read_data(path_to_data+'val.tsv', N=None)` function) and upload your first submission to the web!"
   ]
  },
  {
   "cell_type": "raw",
   "metadata": {},
   "source": [
    "# # Create a submission\n",
    "create_submission(df_val, 'xgb_improved_submission', create_zip=True)"
   ]
  }
 ],
 "metadata": {
  "kernelspec": {
   "display_name": "Python 3",
   "language": "python",
   "name": "python3"
  },
  "language_info": {
   "codemirror_mode": {
    "name": "ipython",
    "version": 3
   },
   "file_extension": ".py",
   "mimetype": "text/x-python",
   "name": "python",
   "nbconvert_exporter": "python",
   "pygments_lexer": "ipython3",
   "version": "3.6.10"
  }
 },
 "nbformat": 4,
 "nbformat_minor": 2
}
